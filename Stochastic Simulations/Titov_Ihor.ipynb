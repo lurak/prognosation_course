{
 "cells": [
  {
   "cell_type": "code",
   "execution_count": 1,
   "metadata": {},
   "outputs": [],
   "source": [
    "import numpy\n",
    "import scipy\n",
    "import scipy.stats\n",
    "import matplotlib.pyplot as plt"
   ]
  },
  {
   "cell_type": "code",
   "execution_count": 2,
   "metadata": {},
   "outputs": [],
   "source": [
    "S = 5"
   ]
  },
  {
   "cell_type": "code",
   "execution_count": 3,
   "metadata": {},
   "outputs": [],
   "source": [
    "L = 500 * S\n",
    "B = 30 * S\n",
    "mu = 3 * (S+1)\n",
    "sigma = S+1\n",
    "min_i = 3 * (S+1)"
   ]
  },
  {
   "cell_type": "code",
   "execution_count": 4,
   "metadata": {},
   "outputs": [
    {
     "name": "stdout",
     "output_type": "stream",
     "text": [
      "[555, 365, 285, 530, 670, 1325, 1475, 445, 355, 595, 260, 315, 1060, 530, 145, 1085, 860, 420, 655]\n"
     ]
    },
    {
     "data": {
      "text/plain": [
       "(array([0.00079145, 0.0015829 , 0.0015829 , 0.0015829 , 0.        ,\n",
       "        0.00039573, 0.00039573, 0.00039573, 0.00039573, 0.00039573]),\n",
       " array([ 145.,  278.,  411.,  544.,  677.,  810.,  943., 1076., 1209.,\n",
       "        1342., 1475.]),\n",
       " <a list of 10 Patch objects>)"
      ]
     },
     "execution_count": 4,
     "metadata": {},
     "output_type": "execute_result"
    },
    {
     "data": {
      "image/png": "[encoded data removed]",
      "text/plain": [
       "<Figure size 432x288 with 1 Axes>"
      ]
     },
     "metadata": {
      "needs_background": "light"
     },
     "output_type": "display_data"
    }
   ],
   "source": [
    "Q_years = [111 , 73, 57, 106, 134, 265, 295, 89, 71, 119, 52, 63, 212, 106, 29, 217, 172, 84, 131]\n",
    "Q_years = list(map(lambda x: x*S, Q_years))\n",
    "print(Q_years)\n",
    "plt.hist(Q_years,  density=True)"
   ]
  },
  {
   "cell_type": "code",
   "execution_count": 5,
   "metadata": {},
   "outputs": [
    {
     "data": {
      "text/plain": [
       "((array([ 184.01873462,  240.64679119,  283.42916585,  321.00787499,\n",
       "          356.31006572,  390.7716898 ,  425.3077758 ,  460.63077041,\n",
       "          497.39562608,  536.29139552,  578.1240265 ,  623.91875261,\n",
       "          675.07647418,  733.64806269,  802.87426721,  888.39362501,\n",
       "         1001.45752688, 1170.21127309, 1503.63663214]),\n",
       "  array([ 145,  260,  285,  315,  355,  365,  420,  445,  530,  530,  555,\n",
       "          595,  655,  670,  860, 1060, 1085, 1325, 1475])),\n",
       " (1.0760778698059155, -33.222050345361595, 0.9881264938260134))"
      ]
     },
     "execution_count": 5,
     "metadata": {},
     "output_type": "execute_result"
    },
    {
     "data": {
      "image/png": "[encoded data removed]",
      "text/plain": [
       "<Figure size 432x288 with 1 Axes>"
      ]
     },
     "metadata": {
      "needs_background": "light"
     },
     "output_type": "display_data"
    }
   ],
   "source": [
    "shape, loc, scale = scipy.stats.lognorm.fit(Q_years)\n",
    "scipy.stats.probplot(Q_years, dist=scipy.stats.lognorm(shape,loc,scale),  plot=plt.figure().add_subplot(111))"
   ]
  },
  {
   "cell_type": "code",
   "execution_count": 6,
   "metadata": {},
   "outputs": [],
   "source": [
    "def Z_count(Q, L, B, K, Z_m, Z_v):\n",
    "    return (Q/(K*B*numpy.sqrt((Z_m-Z_v)/L)))**(3/5)"
   ]
  },
  {
   "cell_type": "code",
   "execution_count": 7,
   "metadata": {},
   "outputs": [
    {
     "data": {
      "text/plain": [
       "536.291395515723"
      ]
     },
     "execution_count": 7,
     "metadata": {},
     "output_type": "execute_result"
    }
   ],
   "source": [
    "Q=scipy.stats.lognorm.median(shape,loc,scale)\n",
    "Q"
   ]
  },
  {
   "cell_type": "code",
   "execution_count": 8,
   "metadata": {},
   "outputs": [
    {
     "data": {
      "text/plain": [
       "54.97923085826889"
      ]
     },
     "execution_count": 8,
     "metadata": {},
     "output_type": "execute_result"
    }
   ],
   "source": [
    "s = numpy.random.triangular(54,55,56, 1000)\n",
    "Z_m = numpy.median(s)\n",
    "Z_m"
   ]
  },
  {
   "cell_type": "code",
   "execution_count": 16,
   "metadata": {},
   "outputs": [
    {
     "data": {
      "text/plain": [
       "49.99029621169086"
      ]
     },
     "execution_count": 16,
     "metadata": {},
     "output_type": "execute_result"
    }
   ],
   "source": [
    "s = numpy.random.triangular(49,50,51, 1000)\n",
    "Z_v = numpy.median(s)\n",
    "Z_v"
   ]
  },
  {
   "cell_type": "code",
   "execution_count": 10,
   "metadata": {},
   "outputs": [
    {
     "data": {
      "text/plain": [
       "18.0"
      ]
     },
     "execution_count": 10,
     "metadata": {},
     "output_type": "execute_result"
    }
   ],
   "source": [
    "s = list()\n",
    "for i in range(1000):\n",
    "    s.append(max(min_i, numpy.random.normal(mu, sigma)))\n",
    "K = numpy.median(s)\n",
    "K"
   ]
  },
  {
   "cell_type": "code",
   "execution_count": 11,
   "metadata": {},
   "outputs": [
    {
     "data": {
      "text/plain": [
       "2.4488779607019517"
      ]
     },
     "execution_count": 11,
     "metadata": {},
     "output_type": "execute_result"
    }
   ],
   "source": [
    "Z_count(Q, L,B, K, Z_m, Z_v)"
   ]
  },
  {
   "cell_type": "code",
   "execution_count": 12,
   "metadata": {},
   "outputs": [
    {
     "data": {
      "text/plain": [
       "(array([7.700e+01, 5.680e+02, 1.381e+03, 1.873e+03, 1.891e+03, 1.472e+03,\n",
       "        1.029e+03, 6.830e+02, 4.210e+02, 2.510e+02, 1.460e+02, 9.200e+01,\n",
       "        4.700e+01, 2.800e+01, 1.500e+01, 1.000e+01, 8.000e+00, 1.000e+00,\n",
       "        3.000e+00, 1.000e+00, 0.000e+00, 2.000e+00, 0.000e+00, 0.000e+00,\n",
       "        1.000e+00]),\n",
       " array([ 0.55868602,  0.93826703,  1.31784805,  1.69742906,  2.07701007,\n",
       "         2.45659109,  2.8361721 ,  3.21575311,  3.59533413,  3.97491514,\n",
       "         4.35449615,  4.73407716,  5.11365818,  5.49323919,  5.8728202 ,\n",
       "         6.25240122,  6.63198223,  7.01156324,  7.39114426,  7.77072527,\n",
       "         8.15030628,  8.5298873 ,  8.90946831,  9.28904932,  9.66863034,\n",
       "        10.04821135]),\n",
       " <a list of 25 Patch objects>)"
      ]
     },
     "execution_count": 12,
     "metadata": {},
     "output_type": "execute_result"
    },
    {
     "data": {
      "image/png": "[encoded data removed]",
      "text/plain": [
       "<Figure size 432x288 with 1 Axes>"
      ]
     },
     "metadata": {
      "needs_background": "light"
     },
     "output_type": "display_data"
    }
   ],
   "source": [
    "N = 10000\n",
    "res = list()\n",
    "for i in range(N):\n",
    "    Q = scipy.stats.lognorm.rvs(shape,loc,scale)\n",
    "    Z_v = numpy.random.triangular(49,50,51)\n",
    "    Z_m = numpy.random.triangular(54,55,56)\n",
    "    K = max(min_i, numpy.random.normal(mu, sigma))\n",
    "    res.append(Z_count(Q, L,B, K, Z_m, Z_v))\n",
    "plt.hist(res, bins=25)"
   ]
  },
  {
   "cell_type": "code",
   "execution_count": 13,
   "metadata": {},
   "outputs": [
    {
     "data": {
      "text/plain": [
       "5.304099882130587"
      ]
     },
     "execution_count": 13,
     "metadata": {},
     "output_type": "execute_result"
    }
   ],
   "source": [
    "numpy.percentile(res, 99)"
   ]
  },
  {
   "cell_type": "markdown",
   "metadata": {},
   "source": [
    "Висновок: Отже, нам варто будувати дамбу вище ніж значення зверху(приблизно в діапазоні 5.3 метрів(дивитись значення, яке вийшло зверху)), щоб ми були в безпеці і нас не затоплювало."
   ]
  }
 ],
 "metadata": {
  "kernelspec": {
   "display_name": "Python 3",
   "language": "python",
   "name": "python3"
  },
  "language_info": {
   "codemirror_mode": {
    "name": "ipython",
    "version": 3
   },
   "file_extension": ".py",
   "mimetype": "text/x-python",
   "name": "python",
   "nbconvert_exporter": "python",
   "pygments_lexer": "ipython3",
   "version": "3.8.3"
  }
 },
 "nbformat": 4,
 "nbformat_minor": 4
}
